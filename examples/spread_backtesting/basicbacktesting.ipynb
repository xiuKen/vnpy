{
 "cells": [
  {
   "cell_type": "code",
   "execution_count": 1,
   "metadata": {},
   "outputs": [],
   "source": [
    "#%%\n",
    "from vnpy.trader.optimize import OptimizationSetting\n",
    "from vnpy_spreadtrading.backtesting import BacktestingEngine\n",
    "from vnpy_spreadtrading.strategies.basic_spread_strategy import (\n",
    "    BasicSpreadStrategy\n",
    ")\n",
    "from vnpy_spreadtrading.base import LegData, SpreadData\n",
    "from datetime import datetime"
   ]
  },
  {
   "cell_type": "code",
   "execution_count": 3,
   "metadata": {},
   "outputs": [],
   "source": [
    "spread = SpreadData(\n",
    "    name=\"y-Spread\",\n",
    "    legs=[LegData(\"y2305.DCE\"), LegData(\"y2309.DCE\")],\n",
    "    variable_symbols={\"A\": \"y2305.DCE\", \"B\": \"y2309.DCE\"},\n",
    "    variable_directions={\"A\": 1, \"B\": -1},\n",
    "    price_formula=\"A-B\",\n",
    "    trading_multipliers={\"y2305.DCE\": 1, \"y2309.DCE\": 1},\n",
    "    active_symbol=\"y2305.DCE\",\n",
    "    min_volume=1,\n",
    "    compile_formula=False                          # 回测时不编译公式，compile_formula传False，从而支持多进程优化\n",
    ")"
   ]
  },
  {
   "cell_type": "code",
   "execution_count": 4,
   "metadata": {},
   "outputs": [
    {
     "name": "stdout",
     "output_type": "stream",
     "text": [
      "1\n"
     ]
    }
   ],
   "source": [
    "#%%\n",
    "engine = BacktestingEngine()\n",
    "engine.set_parameters(\n",
    "    spread=spread,\n",
    "    interval=\"1m\",\n",
    "    start=datetime(2022, 11, 11),\n",
    "    end=datetime(2023, 3, 11),\n",
    "    rate=0,\n",
    "    slippage=0,\n",
    "    size=300,\n",
    "    pricetick=0.2,\n",
    "    capital=1_000_000\n",
    ")\n",
    "engine.add_strategy(BasicSpreadStrategy, {'buy_price':30,'sell_price':35,'cover_price':200,'short_price':400,'max_pos':1})\n",
    "print(engine.strategy.max_pos)"
   ]
  },
  {
   "cell_type": "code",
   "execution_count": 5,
   "metadata": {},
   "outputs": [
    {
     "name": "stdout",
     "output_type": "stream",
     "text": [
      "2023-04-10 17:03:05.147025\t开始加载历史数据\n",
      "2023-04-10 17:03:09.115943\t历史数据加载完成，数据量：34140\n",
      "策略初始化\n",
      "2023-04-10 17:03:09.117208\t策略初始化完成\n",
      "策略启动\n",
      "2023-04-10 17:03:09.117240\t开始回放历史数据\n",
      "2023-04-10 17:03:09.147850\t历史数据回放结束\n",
      "2023-04-10 17:03:09.147954\t开始计算逐日盯市盈亏\n",
      "2023-04-10 17:03:09.147964\t成交记录为空，无法计算\n",
      "2023-04-10 17:03:09.147997\t开始计算策略统计指标\n",
      "2023-04-10 17:03:09.148004\t------------------------------\n",
      "2023-04-10 17:03:09.148009\t首个交易日：\t\n",
      "2023-04-10 17:03:09.148013\t最后交易日：\t\n",
      "2023-04-10 17:03:09.148017\t总交易日：\t0\n",
      "2023-04-10 17:03:09.148021\t盈利交易日：\t0\n",
      "2023-04-10 17:03:09.148025\t亏损交易日：\t0\n",
      "2023-04-10 17:03:09.148034\t起始资金：\t1,000,000.00\n",
      "2023-04-10 17:03:09.148039\t结束资金：\t0.00\n",
      "2023-04-10 17:03:09.148044\t总收益率：\t0.00%\n",
      "2023-04-10 17:03:09.148048\t年化收益：\t0.00%\n",
      "2023-04-10 17:03:09.148052\t最大回撤: \t0.00\n",
      "2023-04-10 17:03:09.148056\t百分比最大回撤: 0.00%\n",
      "2023-04-10 17:03:09.148061\t最长回撤天数: \t0\n",
      "2023-04-10 17:03:09.148065\t总盈亏：\t0.00\n",
      "2023-04-10 17:03:09.148069\t总手续费：\t0.00\n",
      "2023-04-10 17:03:09.148073\t总滑点：\t0.00\n",
      "2023-04-10 17:03:09.148077\t总成交金额：\t0.00\n",
      "2023-04-10 17:03:09.148081\t总成交笔数：\t0\n",
      "2023-04-10 17:03:09.148085\t日均盈亏：\t0.00\n",
      "2023-04-10 17:03:09.148089\t日均手续费：\t0.00\n",
      "2023-04-10 17:03:09.148093\t日均滑点：\t0.00\n",
      "2023-04-10 17:03:09.148097\t日均成交金额：\t0.00\n",
      "2023-04-10 17:03:09.148101\t日均成交笔数：\t0\n",
      "2023-04-10 17:03:09.148105\t日均收益率：\t0.00%\n",
      "2023-04-10 17:03:09.148110\t收益标准差：\t0.00%\n",
      "2023-04-10 17:03:09.148114\tSharpe Ratio：\t0.00\n",
      "2023-04-10 17:03:09.148118\t收益回撤比：\t0.00\n"
     ]
    }
   ],
   "source": [
    "#%%\n",
    "engine.load_data()\n",
    "engine.run_backtesting()\n",
    "df = engine.calculate_result()\n",
    "engine.calculate_statistics()\n",
    "engine.show_chart()"
   ]
  },
  {
   "cell_type": "code",
   "execution_count": 13,
   "metadata": {},
   "outputs": [],
   "source": [
    "for trade in engine.trades.values():\n",
    "    print(trade)"
   ]
  }
 ],
 "metadata": {
  "kernelspec": {
   "display_name": "vnpy",
   "language": "python",
   "name": "python3"
  },
  "language_info": {
   "codemirror_mode": {
    "name": "ipython",
    "version": 3
   },
   "file_extension": ".py",
   "mimetype": "text/x-python",
   "name": "python",
   "nbconvert_exporter": "python",
   "pygments_lexer": "ipython3",
   "version": "3.10.9"
  },
  "orig_nbformat": 4
 },
 "nbformat": 4,
 "nbformat_minor": 2
}
